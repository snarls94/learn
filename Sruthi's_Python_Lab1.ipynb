{
  "nbformat": 4,
  "nbformat_minor": 0,
  "metadata": {
    "colab": {
      "provenance": [],
      "collapsed_sections": [],
      "authorship_tag": "ABX9TyNvhIAc8dEaHLBLa32/cZzW",
      "include_colab_link": true
    },
    "kernelspec": {
      "name": "python3",
      "display_name": "Python 3"
    },
    "language_info": {
      "name": "python"
    }
  },
  "cells": [
    {
      "cell_type": "markdown",
      "metadata": {
        "id": "view-in-github",
        "colab_type": "text"
      },
      "source": [
        "<a href=\"https://colab.research.google.com/github/snarls94/learn/blob/master/Sruthi's_Python_Lab1.ipynb\" target=\"_parent\"><img src=\"https://colab.research.google.com/assets/colab-badge.svg\" alt=\"Open In Colab\"/></a>"
      ]
    },
    {
      "cell_type": "markdown",
      "source": [
        "1. Write a function middle (L) that accepts a list L as its input parameter and returns the element in the middle of the list. Hint: if the size of the list even takes the average of the two elements in the middle."
      ],
      "metadata": {
        "id": "rgDzIfv1s1iP"
      }
    },
    {
      "cell_type": "code",
      "source": [
        "import math\n",
        "\n",
        "def middle(list):\n",
        "    list_len = len(list)\n",
        "    \n",
        "    # if even\n",
        "    if list_len % 2 == 0:\n",
        "        idx = math.floor(list_len / 2)\n",
        "        return (list[idx-1] + list[idx]) / 2\n",
        "    # if odd\n",
        "    else: \n",
        "        idx = math.floor(list_len / 2)\n",
        "        return list[idx]\n",
        "\n",
        "print(middle([10, 32, 4, 75, 234]))\n",
        "print(middle([10, 32, 4, 75, 234, 94]))"
      ],
      "metadata": {
        "colab": {
          "base_uri": "https://localhost:8080/"
        },
        "id": "X_fiqT8dtCf3",
        "outputId": "c5a22fe2-f845-4405-a2fe-7a1f52179331"
      },
      "execution_count": 5,
      "outputs": [
        {
          "output_type": "stream",
          "name": "stdout",
          "text": [
            "4\n",
            "39.5\n"
          ]
        }
      ]
    },
    {
      "cell_type": "markdown",
      "source": [
        "2. Write a code fragment that reads a string using input() function and outputs the same string with the first and last characters exchanged. For example, if the onput is \"hello\", your code will print \"oellh\"."
      ],
      "metadata": {
        "id": "PjaMyBIyw7Cb"
      }
    },
    {
      "cell_type": "code",
      "source": [
        "print(\"Enter input\")\n",
        "str = input()\n",
        "# convert string to list \"HELLO\" -> [\"H\", \"E\", \"L\", \"L\", \"O\"]\n",
        "lst = []\n",
        "lst[:0] = str\n",
        "\n",
        "temp = lst[-1]\n",
        "lst[-1] = lst[0]\n",
        "lst[0] = temp\n",
        "\n",
        "print(\"\".join(lst))"
      ],
      "metadata": {
        "colab": {
          "base_uri": "https://localhost:8080/"
        },
        "id": "Kv1ZavAP7DZM",
        "outputId": "424f79a4-fcc6-44a9-d8f0-c2c24520b8b8"
      },
      "execution_count": 4,
      "outputs": [
        {
          "output_type": "stream",
          "name": "stdout",
          "text": [
            "Enter input\n",
            "Hello\n",
            "oellH\n"
          ]
        }
      ]
    },
    {
      "cell_type": "markdown",
      "source": [
        "3. Write a code fragment that reads an integer from input (i.e., using input function), representing the person’s age. If the age is 18+, print “You can vote”. If the age is between 0-17 print out “Too young to vote”. Hint: you need to convert (i.e., cast) the string returned from input function to an integer."
      ],
      "metadata": {
        "id": "z-PRjTvvlncQ"
      }
    },
    {
      "cell_type": "code",
      "source": [
        "print(\"Enter your age\")\n",
        "age_str = input()\n",
        "\n",
        "age = int(age_str)\n",
        "\n",
        "if age >= 18:\n",
        "  print(\"You can vote!\")\n",
        "else:\n",
        "  print(\"Too young 👶 to vote!\")\n"
      ],
      "metadata": {
        "colab": {
          "base_uri": "https://localhost:8080/"
        },
        "id": "M4WoXOdvltXo",
        "outputId": "22f906e4-8403-4c12-94ad-b19b6071a217"
      },
      "execution_count": 1,
      "outputs": [
        {
          "output_type": "stream",
          "name": "stdout",
          "text": [
            "Enter your age\n",
            "9\n",
            "Too young 👶 to vote!\n"
          ]
        }
      ]
    },
    {
      "cell_type": "markdown",
      "source": [
        "4. Write a code fragment to help a credit card company to compute customers’ “minimum payment” according to the following rule. The minimum payment is equal to 10$ or 2.1% of the customer’s balance, whichever is greater, but if this exceeds the balance, then the minimum payment is the balance."
      ],
      "metadata": {
        "id": "PldgC5YFn8oS"
      }
    },
    {
      "cell_type": "code",
      "source": [
        "def get_minimum_payment(balance):\n",
        "    minimum_payment = 0\n",
        "    if balance > 10:\n",
        "        minimum_payment = balance * 0.021\n",
        "        if minimum_payment < 10:\n",
        "            minimum_payment = 10\n",
        "    else:\n",
        "        minimum_payment = balance\n",
        "        \n",
        "    return minimum_payment\n",
        "\n",
        "print(get_minimum_payment(1000))\n",
        "print(get_minimum_payment(600))\n",
        "print(get_minimum_payment(25))\n",
        "print(get_minimum_payment(8))"
      ],
      "metadata": {
        "colab": {
          "base_uri": "https://localhost:8080/"
        },
        "id": "pgcVCFtsoBD6",
        "outputId": "ba3ca93d-fb0e-47b8-8f0c-c46b0a1b127f"
      },
      "execution_count": 3,
      "outputs": [
        {
          "output_type": "stream",
          "name": "stdout",
          "text": [
            "21.0\n",
            "12.600000000000001\n",
            "10\n",
            "8\n"
          ]
        }
      ]
    },
    {
      "cell_type": "markdown",
      "source": [
        "5. Write a function calculation() such that it can accept two variables and calculate addition and\n",
        "subtraction. Also, it must return both addition and subtraction in a single. Hint: use tuple. "
      ],
      "metadata": {
        "id": "l3gSmqolpteb"
      }
    },
    {
      "cell_type": "code",
      "source": [
        "def calculation(x, y):\n",
        "  sum = x + y\n",
        "  difference = x - y\n",
        "\n",
        "  return (sum, difference)\n",
        "\n",
        "print(calculation(35, 15))"
      ],
      "metadata": {
        "colab": {
          "base_uri": "https://localhost:8080/"
        },
        "id": "qR3MlXlSpuQo",
        "outputId": "5eb68af0-bf05-4570-9e6f-bf37151ed3c9"
      },
      "execution_count": 6,
      "outputs": [
        {
          "output_type": "stream",
          "name": "stdout",
          "text": [
            "(50, 20)\n"
          ]
        }
      ]
    },
    {
      "cell_type": "markdown",
      "source": [
        "6. Write a code fragment that calculates the frequency of characters in a text. Uppercase and lowercase characters are treated equally(use string builtin lower() or upper() functions. Ignore white space."
      ],
      "metadata": {
        "id": "CFL0vkrTqUu3"
      }
    },
    {
      "cell_type": "code",
      "source": [
        "def get_frequency(str):\n",
        "    dict = {}\n",
        "  \n",
        "    for c in str.lower():\n",
        "        dict[c] = dict[c] + 1 if dict.get(c) else 1\n",
        "        \n",
        "    return dict\n",
        "    \n",
        "print(get_frequency(\"The university of North florida\"))"
      ],
      "metadata": {
        "colab": {
          "base_uri": "https://localhost:8080/"
        },
        "id": "33mc3LzbqVyR",
        "outputId": "397f1492-ad2c-42d4-e304-6a451eb6b873"
      },
      "execution_count": 7,
      "outputs": [
        {
          "output_type": "stream",
          "name": "stdout",
          "text": [
            "{'t': 3, 'h': 2, 'e': 2, ' ': 4, 'u': 1, 'n': 2, 'i': 3, 'v': 1, 'r': 3, 's': 1, 'y': 1, 'o': 3, 'f': 2, 'l': 1, 'd': 1, 'a': 1}\n"
          ]
        }
      ]
    },
    {
      "cell_type": "markdown",
      "source": [
        "7. Build a list that contains every prime number between 1 and 100, in two different ways\n",
        "- Using for loops and conditional if statements.\n",
        "- Using a list comprehension. You should be able to do this in one line of code. "
      ],
      "metadata": {
        "id": "xlZ8dYXivpR5"
      }
    },
    {
      "cell_type": "code",
      "source": [
        "def get_prime_first():\n",
        "    for num in range(1, 100):\n",
        "    # all prime numbers are greater than 1\n",
        "        if num > 1:\n",
        "           for i in range(2, num):\n",
        "               if (num % i) == 0:\n",
        "                   break\n",
        "           else:\n",
        "               print(num)\n",
        "               \n",
        "def get_prime_second():\n",
        "    return list(set(range(2,100)) - {x for x in range(100) for y in range(2,x) if x%y == 0})\n",
        "    \n",
        "print(get_prime_first())\n",
        "print(get_prime_second())"
      ],
      "metadata": {
        "colab": {
          "base_uri": "https://localhost:8080/"
        },
        "id": "bNNbcRv9vqn1",
        "outputId": "c63cf02e-4e4b-4905-d941-c10cdbc1a19b"
      },
      "execution_count": 8,
      "outputs": [
        {
          "output_type": "stream",
          "name": "stdout",
          "text": [
            "2\n",
            "3\n",
            "5\n",
            "7\n",
            "11\n",
            "13\n",
            "17\n",
            "19\n",
            "23\n",
            "29\n",
            "31\n",
            "37\n",
            "41\n",
            "43\n",
            "47\n",
            "53\n",
            "59\n",
            "61\n",
            "67\n",
            "71\n",
            "73\n",
            "79\n",
            "83\n",
            "89\n",
            "97\n",
            "None\n",
            "[2, 3, 5, 7, 11, 13, 17, 19, 23, 29, 31, 37, 41, 43, 47, 53, 59, 61, 67, 71, 73, 79, 83, 89, 97]\n"
          ]
        }
      ]
    }
  ]
}